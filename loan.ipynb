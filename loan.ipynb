{
 "cells": [
  {
   "cell_type": "markdown",
   "metadata": {},
   "source": [
    "Importing Libraries"
   ]
  },
  {
   "cell_type": "code",
   "execution_count": 256,
   "metadata": {},
   "outputs": [],
   "source": [
    "import pandas as pd\n",
    "import numpy as np\n",
    "import seaborn as sns\n",
    "import matplotlib.pyplot as plt\n",
    "from sklearn.model_selection import train_test_split, cross_val_score\n",
    "from sklearn import metrics\n",
    "from sklearn.metrics import accuracy_score, confusion_matrix, classification_report\n",
    "from sklearn.linear_model import LogisticRegression"
   ]
  },
  {
   "cell_type": "markdown",
   "metadata": {},
   "source": [
    "Importing Data"
   ]
  },
  {
   "cell_type": "code",
   "execution_count": 257,
   "metadata": {},
   "outputs": [
    {
     "data": {
      "text/html": [
       "<div>\n",
       "<style scoped>\n",
       "    .dataframe tbody tr th:only-of-type {\n",
       "        vertical-align: middle;\n",
       "    }\n",
       "\n",
       "    .dataframe tbody tr th {\n",
       "        vertical-align: top;\n",
       "    }\n",
       "\n",
       "    .dataframe thead th {\n",
       "        text-align: right;\n",
       "    }\n",
       "</style>\n",
       "<table border=\"1\" class=\"dataframe\">\n",
       "  <thead>\n",
       "    <tr style=\"text-align: right;\">\n",
       "      <th></th>\n",
       "      <th>Application_ID</th>\n",
       "      <th>Gender</th>\n",
       "      <th>Married</th>\n",
       "      <th>Dependents</th>\n",
       "      <th>Education</th>\n",
       "      <th>Self_Employed</th>\n",
       "      <th>Credit_History</th>\n",
       "      <th>Property_Area</th>\n",
       "      <th>Income</th>\n",
       "      <th>Application_Status</th>\n",
       "    </tr>\n",
       "  </thead>\n",
       "  <tbody>\n",
       "    <tr>\n",
       "      <th>0</th>\n",
       "      <td>LP001002</td>\n",
       "      <td>Male</td>\n",
       "      <td>No</td>\n",
       "      <td>0</td>\n",
       "      <td>Graduate</td>\n",
       "      <td>No</td>\n",
       "      <td>1</td>\n",
       "      <td>Urban</td>\n",
       "      <td>medium</td>\n",
       "      <td>Y</td>\n",
       "    </tr>\n",
       "    <tr>\n",
       "      <th>1</th>\n",
       "      <td>LP001003</td>\n",
       "      <td>Male</td>\n",
       "      <td>Yes</td>\n",
       "      <td>1</td>\n",
       "      <td>Graduate</td>\n",
       "      <td>No</td>\n",
       "      <td>1</td>\n",
       "      <td>Rural</td>\n",
       "      <td>medium</td>\n",
       "      <td>N</td>\n",
       "    </tr>\n",
       "    <tr>\n",
       "      <th>2</th>\n",
       "      <td>LP001005</td>\n",
       "      <td>Male</td>\n",
       "      <td>Yes</td>\n",
       "      <td>0</td>\n",
       "      <td>Graduate</td>\n",
       "      <td>Yes</td>\n",
       "      <td>1</td>\n",
       "      <td>Urban</td>\n",
       "      <td>low</td>\n",
       "      <td>Y</td>\n",
       "    </tr>\n",
       "    <tr>\n",
       "      <th>3</th>\n",
       "      <td>LP001006</td>\n",
       "      <td>Male</td>\n",
       "      <td>Yes</td>\n",
       "      <td>0</td>\n",
       "      <td>Not Graduate</td>\n",
       "      <td>No</td>\n",
       "      <td>1</td>\n",
       "      <td>Urban</td>\n",
       "      <td>low</td>\n",
       "      <td>Y</td>\n",
       "    </tr>\n",
       "    <tr>\n",
       "      <th>4</th>\n",
       "      <td>LP001008</td>\n",
       "      <td>Male</td>\n",
       "      <td>No</td>\n",
       "      <td>0</td>\n",
       "      <td>Graduate</td>\n",
       "      <td>No</td>\n",
       "      <td>1</td>\n",
       "      <td>Urban</td>\n",
       "      <td>medium</td>\n",
       "      <td>Y</td>\n",
       "    </tr>\n",
       "    <tr>\n",
       "      <th>...</th>\n",
       "      <td>...</td>\n",
       "      <td>...</td>\n",
       "      <td>...</td>\n",
       "      <td>...</td>\n",
       "      <td>...</td>\n",
       "      <td>...</td>\n",
       "      <td>...</td>\n",
       "      <td>...</td>\n",
       "      <td>...</td>\n",
       "      <td>...</td>\n",
       "    </tr>\n",
       "    <tr>\n",
       "      <th>506</th>\n",
       "      <td>LP002978</td>\n",
       "      <td>Female</td>\n",
       "      <td>No</td>\n",
       "      <td>0</td>\n",
       "      <td>Graduate</td>\n",
       "      <td>No</td>\n",
       "      <td>1</td>\n",
       "      <td>Rural</td>\n",
       "      <td>low</td>\n",
       "      <td>Y</td>\n",
       "    </tr>\n",
       "    <tr>\n",
       "      <th>507</th>\n",
       "      <td>LP002979</td>\n",
       "      <td>Male</td>\n",
       "      <td>Yes</td>\n",
       "      <td>3+</td>\n",
       "      <td>Graduate</td>\n",
       "      <td>No</td>\n",
       "      <td>1</td>\n",
       "      <td>Rural</td>\n",
       "      <td>medium</td>\n",
       "      <td>Y</td>\n",
       "    </tr>\n",
       "    <tr>\n",
       "      <th>508</th>\n",
       "      <td>LP002983</td>\n",
       "      <td>Male</td>\n",
       "      <td>Yes</td>\n",
       "      <td>1</td>\n",
       "      <td>Graduate</td>\n",
       "      <td>No</td>\n",
       "      <td>1</td>\n",
       "      <td>Urban</td>\n",
       "      <td>medium</td>\n",
       "      <td>Y</td>\n",
       "    </tr>\n",
       "    <tr>\n",
       "      <th>509</th>\n",
       "      <td>LP002984</td>\n",
       "      <td>Male</td>\n",
       "      <td>Yes</td>\n",
       "      <td>2</td>\n",
       "      <td>Graduate</td>\n",
       "      <td>No</td>\n",
       "      <td>1</td>\n",
       "      <td>Urban</td>\n",
       "      <td>medium</td>\n",
       "      <td>Y</td>\n",
       "    </tr>\n",
       "    <tr>\n",
       "      <th>510</th>\n",
       "      <td>LP002990</td>\n",
       "      <td>Female</td>\n",
       "      <td>No</td>\n",
       "      <td>0</td>\n",
       "      <td>Graduate</td>\n",
       "      <td>Yes</td>\n",
       "      <td>0</td>\n",
       "      <td>Semiurban</td>\n",
       "      <td>medium</td>\n",
       "      <td>N</td>\n",
       "    </tr>\n",
       "  </tbody>\n",
       "</table>\n",
       "<p>511 rows × 10 columns</p>\n",
       "</div>"
      ],
      "text/plain": [
       "    Application_ID  Gender Married Dependents     Education Self_Employed  \\\n",
       "0         LP001002    Male      No          0      Graduate            No   \n",
       "1         LP001003    Male     Yes          1      Graduate            No   \n",
       "2         LP001005    Male     Yes          0      Graduate           Yes   \n",
       "3         LP001006    Male     Yes          0  Not Graduate            No   \n",
       "4         LP001008    Male      No          0      Graduate            No   \n",
       "..             ...     ...     ...        ...           ...           ...   \n",
       "506       LP002978  Female      No          0      Graduate            No   \n",
       "507       LP002979    Male     Yes         3+      Graduate            No   \n",
       "508       LP002983    Male     Yes          1      Graduate            No   \n",
       "509       LP002984    Male     Yes          2      Graduate            No   \n",
       "510       LP002990  Female      No          0      Graduate           Yes   \n",
       "\n",
       "     Credit_History Property_Area  Income Application_Status  \n",
       "0                 1         Urban  medium                  Y  \n",
       "1                 1         Rural  medium                  N  \n",
       "2                 1         Urban     low                  Y  \n",
       "3                 1         Urban     low                  Y  \n",
       "4                 1         Urban  medium                  Y  \n",
       "..              ...           ...     ...                ...  \n",
       "506               1         Rural     low                  Y  \n",
       "507               1         Rural  medium                  Y  \n",
       "508               1         Urban  medium                  Y  \n",
       "509               1         Urban  medium                  Y  \n",
       "510               0     Semiurban  medium                  N  \n",
       "\n",
       "[511 rows x 10 columns]"
      ]
     },
     "execution_count": 257,
     "metadata": {},
     "output_type": "execute_result"
    }
   ],
   "source": [
    "df = pd.read_json('loan_data.json')\n",
    "df"
   ]
  },
  {
   "cell_type": "markdown",
   "metadata": {},
   "source": [
    "Summary of Dataset"
   ]
  },
  {
   "cell_type": "code",
   "execution_count": 258,
   "metadata": {},
   "outputs": [
    {
     "name": "stdout",
     "output_type": "stream",
     "text": [
      "<class 'pandas.core.frame.DataFrame'>\n",
      "RangeIndex: 511 entries, 0 to 510\n",
      "Data columns (total 10 columns):\n",
      " #   Column              Non-Null Count  Dtype \n",
      "---  ------              --------------  ----- \n",
      " 0   Application_ID      511 non-null    object\n",
      " 1   Gender              511 non-null    object\n",
      " 2   Married             511 non-null    object\n",
      " 3   Dependents          511 non-null    object\n",
      " 4   Education           511 non-null    object\n",
      " 5   Self_Employed       511 non-null    object\n",
      " 6   Credit_History      511 non-null    int64 \n",
      " 7   Property_Area       511 non-null    object\n",
      " 8   Income              511 non-null    object\n",
      " 9   Application_Status  511 non-null    object\n",
      "dtypes: int64(1), object(9)\n",
      "memory usage: 40.0+ KB\n"
     ]
    }
   ],
   "source": [
    "df.info()"
   ]
  },
  {
   "cell_type": "markdown",
   "metadata": {},
   "source": [
    "Checking for Duplicated records"
   ]
  },
  {
   "cell_type": "code",
   "execution_count": 259,
   "metadata": {},
   "outputs": [
    {
     "name": "stdout",
     "output_type": "stream",
     "text": [
      "There are no duplicated records\n"
     ]
    }
   ],
   "source": [
    "if df.duplicated().sum() == 0:\n",
    "    print('There are no duplicated records')"
   ]
  },
  {
   "cell_type": "markdown",
   "metadata": {},
   "source": [
    "Q.1- % of total applicants for each unique value of dependents."
   ]
  },
  {
   "cell_type": "code",
   "execution_count": 260,
   "metadata": {},
   "outputs": [
    {
     "name": "stdout",
     "output_type": "stream",
     "text": [
      "Applicants with 0 dependents are 57.53%\n",
      "Applicants with 1 dependents are 16.63%\n",
      "Applicants with 2 dependents are 17.22%\n",
      "Applicants with 3+ dependents are 8.61%\n"
     ]
    }
   ],
   "source": [
    "# Percentage of applicants where dependents are [0,1,2,3+]\n",
    "def dep_app(number_of_dependents):\n",
    "    a = 100 * (df[df['Dependents'] == number_of_dependents].shape[0] / df.shape[0])\n",
    "    return round(a,2)\n",
    "for i in df.Dependents.unique().tolist():\n",
    "    print('Applicants with {0} dependents are {1}%'.format(i,(dep_app(i))))"
   ]
  },
  {
   "cell_type": "markdown",
   "metadata": {},
   "source": [
    "Q.2- % of applications approved for self-employed applicants."
   ]
  },
  {
   "cell_type": "code",
   "execution_count": 261,
   "metadata": {},
   "outputs": [
    {
     "name": "stdout",
     "output_type": "stream",
     "text": [
      "Self Employed Applicants are 65.71%\n"
     ]
    }
   ],
   "source": [
    "self_approved = 100 * (df[(df['Self_Employed'] == 'Yes') & (df['Application_Status'] == 'Y')].shape[0] / df[df['Self_Employed'] == 'Yes'].shape[0])\n",
    "print('Self Employed Applicants are {0}%'.format(round(self_approved,2)))"
   ]
  },
  {
   "cell_type": "markdown",
   "metadata": {},
   "source": [
    "Q.3- % of rejections for married male applicants."
   ]
  },
  {
   "cell_type": "code",
   "execution_count": 262,
   "metadata": {},
   "outputs": [
    {
     "name": "stdout",
     "output_type": "stream",
     "text": [
      "Married male rejections percentage is 28.43%\n"
     ]
    }
   ],
   "source": [
    "mar_male_rej = 100 * (df[(df['Married'] == 'Yes') & (df['Gender'] == 'Male') & (df['Application_Status'] == 'N')].shape[0] / df[(df['Married'] == 'Yes') & \\\n",
    "    (df['Gender'] == 'Male')].shape[0])\n",
    "print('Married male rejections percentage is {0}%'.format(round(mar_male_rej,2)))"
   ]
  },
  {
   "cell_type": "markdown",
   "metadata": {},
   "source": [
    "Q.4- Which property area has the maximum approval ratio."
   ]
  },
  {
   "cell_type": "code",
   "execution_count": 263,
   "metadata": {},
   "outputs": [
    {
     "name": "stdout",
     "output_type": "stream",
     "text": [
      "Urban have 63.03% approval ratio.\n",
      "Rural have 60.4% approval ratio.\n",
      "Semiurban have 77.66% approval ratio.\n",
      "Semiurban has maximum approval ratio\n"
     ]
    }
   ],
   "source": [
    "def property_approval_rate(Property):\n",
    "    a = 100 * (df[((df['Property_Area'] == Property) & (df['Application_Status'] == 'Y'))].shape[0] / df[df['Property_Area'] == Property].shape[0])\n",
    "    return round(a,2)\n",
    "dict = {}\n",
    "for i in df.Property_Area.unique().tolist():\n",
    "    print('{0} have {1}% approval ratio.'.format(i,(property_approval_rate(i))))\n",
    "    dict[i] = [property_approval_rate(i)]\n",
    "print('{0} has maximum approval ratio'.format(max(dict, key=dict.get)))"
   ]
  },
  {
   "cell_type": "markdown",
   "metadata": {},
   "source": [
    "Q.5- Average number of dependents per income group."
   ]
  },
  {
   "cell_type": "code",
   "execution_count": 288,
   "metadata": {},
   "outputs": [
    {
     "name": "stdout",
     "output_type": "stream",
     "text": [
      "Average number of dependents per income group are\n",
      "Income\n",
      "high      0.89\n",
      "low       0.64\n",
      "medium    0.92\n",
      "Name: dep, dtype: float64\n"
     ]
    }
   ],
   "source": [
    "df_copy = df.copy()\n",
    "df_copy['dep'] = pd.to_numeric(df_copy['Dependents'], errors='coerce')\n",
    "df_copy.dep.fillna(3.0, inplace=True)\n",
    "print('Average number of dependents per income group are')\n",
    "print(df_copy.groupby(by='Income')['dep'].mean().round(2))"
   ]
  },
  {
   "cell_type": "markdown",
   "metadata": {},
   "source": [
    "Q.6- Approval ratio for various combinations of Property_Area and Marrital status"
   ]
  },
  {
   "cell_type": "code",
   "execution_count": 267,
   "metadata": {},
   "outputs": [
    {
     "data": {
      "text/html": [
       "<div>\n",
       "<style scoped>\n",
       "    .dataframe tbody tr th:only-of-type {\n",
       "        vertical-align: middle;\n",
       "    }\n",
       "\n",
       "    .dataframe tbody tr th {\n",
       "        vertical-align: top;\n",
       "    }\n",
       "\n",
       "    .dataframe thead th {\n",
       "        text-align: right;\n",
       "    }\n",
       "</style>\n",
       "<table border=\"1\" class=\"dataframe\">\n",
       "  <thead>\n",
       "    <tr style=\"text-align: right;\">\n",
       "      <th></th>\n",
       "      <th>Property_Area</th>\n",
       "      <th>Marrital Status</th>\n",
       "      <th># of Applicants</th>\n",
       "      <th>Approval Ratio</th>\n",
       "    </tr>\n",
       "  </thead>\n",
       "  <tbody>\n",
       "    <tr>\n",
       "      <th>0</th>\n",
       "      <td>Rural</td>\n",
       "      <td>Married</td>\n",
       "      <td>93</td>\n",
       "      <td>60.22</td>\n",
       "    </tr>\n",
       "    <tr>\n",
       "      <th>1</th>\n",
       "      <td>Rural</td>\n",
       "      <td>Unmarried</td>\n",
       "      <td>56</td>\n",
       "      <td>60.71</td>\n",
       "    </tr>\n",
       "    <tr>\n",
       "      <th>2</th>\n",
       "      <td>Urban</td>\n",
       "      <td>Married</td>\n",
       "      <td>109</td>\n",
       "      <td>67.89</td>\n",
       "    </tr>\n",
       "    <tr>\n",
       "      <th>3</th>\n",
       "      <td>Urban</td>\n",
       "      <td>Unmarried</td>\n",
       "      <td>56</td>\n",
       "      <td>53.57</td>\n",
       "    </tr>\n",
       "  </tbody>\n",
       "</table>\n",
       "</div>"
      ],
      "text/plain": [
       "  Property_Area Marrital Status  # of Applicants  Approval Ratio\n",
       "0         Rural         Married               93           60.22\n",
       "1         Rural       Unmarried               56           60.71\n",
       "2         Urban         Married              109           67.89\n",
       "3         Urban       Unmarried               56           53.57"
      ]
     },
     "execution_count": 267,
     "metadata": {},
     "output_type": "execute_result"
    }
   ],
   "source": [
    "def app(area, marrital_status):\n",
    "    number_of_applicants = df[(df['Property_Area'] == area) & (df['Married'] == marrital_status)].shape[0]\n",
    "    return number_of_applicants\n",
    "def app_ratio(area, marrital_status):\n",
    "    approval_ratio = 100 * (df[(df['Property_Area'] == area) & (df['Married'] == marrital_status) & (df['Application_Status'] == 'Y')]).shape[0] \\\n",
    "        / df[(df['Property_Area'] == area) & (df['Married'] == marrital_status)].shape[0]\n",
    "    return round(approval_ratio,2)\n",
    "d = {'Property_Area': ['Rural', 'Rural', 'Urban', 'Urban'], 'Marrital Status': ['Married', 'Unmarried', 'Married', 'Unmarried'], '# of Applicants': [app('Rural', 'Yes'),\\\n",
    " app('Rural', 'No'), app('Urban', 'Yes'), app('Urban', 'No')], 'Approval Ratio': [app_ratio('Rural', 'Yes'), app_ratio('Rural', 'No'), app_ratio('Urban', 'Yes'),\\\n",
    "     app_ratio('Urban', 'No')]}\n",
    "tab = pd.DataFrame(data=d)\n",
    "tab"
   ]
  },
  {
   "cell_type": "markdown",
   "metadata": {},
   "source": [
    "Q.7- A simple predictive model to assess whether a loan application will be approved or rejected and its accuracy score."
   ]
  },
  {
   "cell_type": "code",
   "execution_count": 268,
   "metadata": {},
   "outputs": [
    {
     "data": {
      "text/plain": [
       "array(['Application_ID', 'Gender', 'Married', 'Dependents', 'Education',\n",
       "       'Self_Employed', 'Credit_History', 'Property_Area', 'Income',\n",
       "       'Application_Status'], dtype=object)"
      ]
     },
     "execution_count": 268,
     "metadata": {},
     "output_type": "execute_result"
    }
   ],
   "source": [
    "# All columns\n",
    "df.columns.values"
   ]
  },
  {
   "cell_type": "code",
   "execution_count": 269,
   "metadata": {},
   "outputs": [
    {
     "data": {
      "text/plain": [
       "array(['Gender', 'Married', 'Dependents', 'Education', 'Self_Employed',\n",
       "       'Credit_History', 'Property_Area', 'Income', 'Application_Status'],\n",
       "      dtype=object)"
      ]
     },
     "execution_count": 269,
     "metadata": {},
     "output_type": "execute_result"
    }
   ],
   "source": [
    "# All categorical columns\n",
    "categorical_col = ['Gender', 'Married', 'Dependents', 'Education', 'Self_Employed', 'Credit_History', 'Property_Area', 'Income']\n",
    "\n",
    "# dropping unneccesary column\n",
    "df1 = df.drop(columns=['Application_ID'])\n",
    "df1.columns.values"
   ]
  },
  {
   "cell_type": "code",
   "execution_count": 270,
   "metadata": {},
   "outputs": [
    {
     "data": {
      "image/png": "[encoded data removed]",
      "text/plain": [
       "<Figure size 1200x1500 with 8 Axes>"
      ]
     },
     "metadata": {},
     "output_type": "display_data"
    }
   ],
   "source": [
    "# EDA of the data\n",
    "fig,axes = plt.subplots(4,2,figsize=(12,15))\n",
    "for idx,cat_col in enumerate(categorical_col):\n",
    "    row,col = idx//2,idx%2\n",
    "    sns.countplot(x=cat_col,data=df1,hue='Application_Status',ax=axes[row,col])\n",
    "\n",
    "plt.subplots_adjust(hspace=1)"
   ]
  },
  {
   "cell_type": "code",
   "execution_count": 271,
   "metadata": {},
   "outputs": [
    {
     "data": {
      "text/html": [
       "<div>\n",
       "<style scoped>\n",
       "    .dataframe tbody tr th:only-of-type {\n",
       "        vertical-align: middle;\n",
       "    }\n",
       "\n",
       "    .dataframe tbody tr th {\n",
       "        vertical-align: top;\n",
       "    }\n",
       "\n",
       "    .dataframe thead th {\n",
       "        text-align: right;\n",
       "    }\n",
       "</style>\n",
       "<table border=\"1\" class=\"dataframe\">\n",
       "  <thead>\n",
       "    <tr style=\"text-align: right;\">\n",
       "      <th></th>\n",
       "      <th>Credit_History</th>\n",
       "      <th>Gender_Male</th>\n",
       "      <th>Married_Yes</th>\n",
       "      <th>Dependents_1</th>\n",
       "      <th>Dependents_2</th>\n",
       "      <th>Dependents_3+</th>\n",
       "      <th>Education_Not Graduate</th>\n",
       "      <th>Self_Employed_Yes</th>\n",
       "      <th>Property_Area_Semiurban</th>\n",
       "      <th>Property_Area_Urban</th>\n",
       "      <th>Income_low</th>\n",
       "      <th>Income_medium</th>\n",
       "      <th>Application_Status_Y</th>\n",
       "    </tr>\n",
       "  </thead>\n",
       "  <tbody>\n",
       "    <tr>\n",
       "      <th>0</th>\n",
       "      <td>1</td>\n",
       "      <td>1</td>\n",
       "      <td>0</td>\n",
       "      <td>0</td>\n",
       "      <td>0</td>\n",
       "      <td>0</td>\n",
       "      <td>0</td>\n",
       "      <td>0</td>\n",
       "      <td>0</td>\n",
       "      <td>1</td>\n",
       "      <td>0</td>\n",
       "      <td>1</td>\n",
       "      <td>1</td>\n",
       "    </tr>\n",
       "    <tr>\n",
       "      <th>1</th>\n",
       "      <td>1</td>\n",
       "      <td>1</td>\n",
       "      <td>1</td>\n",
       "      <td>1</td>\n",
       "      <td>0</td>\n",
       "      <td>0</td>\n",
       "      <td>0</td>\n",
       "      <td>0</td>\n",
       "      <td>0</td>\n",
       "      <td>0</td>\n",
       "      <td>0</td>\n",
       "      <td>1</td>\n",
       "      <td>0</td>\n",
       "    </tr>\n",
       "    <tr>\n",
       "      <th>2</th>\n",
       "      <td>1</td>\n",
       "      <td>1</td>\n",
       "      <td>1</td>\n",
       "      <td>0</td>\n",
       "      <td>0</td>\n",
       "      <td>0</td>\n",
       "      <td>0</td>\n",
       "      <td>1</td>\n",
       "      <td>0</td>\n",
       "      <td>1</td>\n",
       "      <td>1</td>\n",
       "      <td>0</td>\n",
       "      <td>1</td>\n",
       "    </tr>\n",
       "    <tr>\n",
       "      <th>3</th>\n",
       "      <td>1</td>\n",
       "      <td>1</td>\n",
       "      <td>1</td>\n",
       "      <td>0</td>\n",
       "      <td>0</td>\n",
       "      <td>0</td>\n",
       "      <td>1</td>\n",
       "      <td>0</td>\n",
       "      <td>0</td>\n",
       "      <td>1</td>\n",
       "      <td>1</td>\n",
       "      <td>0</td>\n",
       "      <td>1</td>\n",
       "    </tr>\n",
       "    <tr>\n",
       "      <th>4</th>\n",
       "      <td>1</td>\n",
       "      <td>1</td>\n",
       "      <td>0</td>\n",
       "      <td>0</td>\n",
       "      <td>0</td>\n",
       "      <td>0</td>\n",
       "      <td>0</td>\n",
       "      <td>0</td>\n",
       "      <td>0</td>\n",
       "      <td>1</td>\n",
       "      <td>0</td>\n",
       "      <td>1</td>\n",
       "      <td>1</td>\n",
       "    </tr>\n",
       "  </tbody>\n",
       "</table>\n",
       "</div>"
      ],
      "text/plain": [
       "   Credit_History  Gender_Male  Married_Yes  Dependents_1  Dependents_2  \\\n",
       "0               1            1            0             0             0   \n",
       "1               1            1            1             1             0   \n",
       "2               1            1            1             0             0   \n",
       "3               1            1            1             0             0   \n",
       "4               1            1            0             0             0   \n",
       "\n",
       "   Dependents_3+  Education_Not Graduate  Self_Employed_Yes  \\\n",
       "0              0                       0                  0   \n",
       "1              0                       0                  0   \n",
       "2              0                       0                  1   \n",
       "3              0                       1                  0   \n",
       "4              0                       0                  0   \n",
       "\n",
       "   Property_Area_Semiurban  Property_Area_Urban  Income_low  Income_medium  \\\n",
       "0                        0                    1           0              1   \n",
       "1                        0                    0           0              1   \n",
       "2                        0                    1           1              0   \n",
       "3                        0                    1           1              0   \n",
       "4                        0                    1           0              1   \n",
       "\n",
       "   Application_Status_Y  \n",
       "0                     1  \n",
       "1                     0  \n",
       "2                     1  \n",
       "3                     1  \n",
       "4                     1  "
      ]
     },
     "execution_count": 271,
     "metadata": {},
     "output_type": "execute_result"
    }
   ],
   "source": [
    "df1_encoded = pd.get_dummies(df1, drop_first=True)\n",
    "df1_encoded.head()"
   ]
  },
  {
   "cell_type": "code",
   "execution_count": 272,
   "metadata": {},
   "outputs": [],
   "source": [
    "# Establish target and feature fields\n",
    "y = df1_encoded['Application_Status_Y']\n",
    "X = df1_encoded.drop('Application_Status_Y', axis=1)\n",
    "\n",
    "X_train, X_test, y_train, y_test = train_test_split(X, y, test_size=0.25)"
   ]
  },
  {
   "cell_type": "code",
   "execution_count": 273,
   "metadata": {},
   "outputs": [
    {
     "name": "stdout",
     "output_type": "stream",
     "text": [
      "Accuracy_Score = 0.828125\n",
      "              precision    recall  f1-score   support\n",
      "\n",
      "           0      0.889     0.444     0.593        36\n",
      "           1      0.818     0.978     0.891        92\n",
      "\n",
      "    accuracy                          0.828       128\n",
      "   macro avg      0.854     0.711     0.742       128\n",
      "weighted avg      0.838     0.828     0.807       128\n",
      "\n"
     ]
    }
   ],
   "source": [
    "# Initialize model\n",
    "log_reg = LogisticRegression(random_state=2)\n",
    "\n",
    "# Train the model and make predictions\n",
    "log_reg.fit(X_train, y_train)\n",
    "y_logpred = log_reg.predict(X_test)\n",
    "\n",
    "# Print the results\n",
    "print(\"Accuracy_Score = {}\".format(metrics.accuracy_score(y_test, y_logpred)))\n",
    "print(classification_report(y_test, y_logpred, digits=3))"
   ]
  }
 ],
 "metadata": {
  "kernelspec": {
   "display_name": "Python 3.9.13 ('base')",
   "language": "python",
   "name": "python3"
  },
  "language_info": {
   "codemirror_mode": {
    "name": "ipython",
    "version": 3
   },
   "file_extension": ".py",
   "mimetype": "text/x-python",
   "name": "python",
   "nbconvert_exporter": "python",
   "pygments_lexer": "ipython3",
   "version": "3.9.13"
  },
  "orig_nbformat": 4,
  "vscode": {
   "interpreter": {
    "hash": "f5b326d6fc216107cfc5548154741a0b3b78b57750a3f565b67ff9e1ebdcfb7b"
   }
  }
 },
 "nbformat": 4,
 "nbformat_minor": 2
}
